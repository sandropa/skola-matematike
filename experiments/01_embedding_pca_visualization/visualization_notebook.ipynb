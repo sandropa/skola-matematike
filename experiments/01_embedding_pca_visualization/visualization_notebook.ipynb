{
 "cells": [
  {
   "cell_type": "markdown",
   "id": "24ba8b3a",
   "metadata": {},
   "source": [
    "## Experiment 01: Gemini Embedding PCA Visualization"
   ]
  },
  {
   "cell_type": "markdown",
   "id": "489af23b",
   "metadata": {},
   "source": [
    "### Goal\n",
    "Visualize Gemini text embeddings of IMO Shortlist 2023 problems using PCA (2D/3D) to see if problems cluster by mathematical category (A, N, G, C)."
   ]
  },
  {
   "cell_type": "markdown",
   "id": "03c2f18c",
   "metadata": {},
   "source": [
    "### 1. Imports"
   ]
  },
  {
   "cell_type": "code",
   "execution_count": 11,
   "id": "416f9376",
   "metadata": {},
   "outputs": [
    {
     "data": {
      "text/html": [
       "        <script type=\"text/javascript\">\n",
       "        window.PlotlyConfig = {MathJaxConfig: 'local'};\n",
       "        if (window.MathJax && window.MathJax.Hub && window.MathJax.Hub.Config) {window.MathJax.Hub.Config({SVG: {font: \"STIX-Web\"}});}\n",
       "        </script>\n",
       "        <script type=\"module\">import \"https://cdn.plot.ly/plotly-3.0.1.min\"</script>\n",
       "        "
      ]
     },
     "metadata": {},
     "output_type": "display_data"
    }
   ],
   "source": [
    "import os\n",
    "import json\n",
    "import numpy as np\n",
    "import pandas as pd\n",
    "from sklearn.preprocessing import StandardScaler\n",
    "from sklearn.decomposition import PCA\n",
    "import matplotlib.pyplot as plt\n",
    "import seaborn as sns\n",
    "import plotly.graph_objects as go\n",
    "from plotly.offline import init_notebook_mode\n",
    "\n",
    "# Initialize Plotly for offline notebook use\n",
    "init_notebook_mode(connected=True)"
   ]
  },
  {
   "cell_type": "markdown",
   "id": "27e09a47",
   "metadata": {},
   "source": [
    "### 2. Configuration"
   ]
  },
  {
   "cell_type": "code",
   "execution_count": 12,
   "id": "2c14e48d",
   "metadata": {},
   "outputs": [],
   "source": [
    "# Define paths relative to the notebook's location (in experiments/01_.../)\n",
    "DATA_DIR = '../data/' # Go up one level to experiments/, then into data/\n",
    "EMBEDDINGS_FILE = os.path.join(DATA_DIR, 'imo_2023_embeddings.npy')\n",
    "METADATA_FILE = os.path.join(DATA_DIR, 'imo_2023_metadata.json')\n",
    "OUTPUT_DIR = 'outputs/' # Save plots in a subfolder relative to notebook\n",
    "\n",
    "# Create output dir if needed\n",
    "os.makedirs(OUTPUT_DIR, exist_ok=True)\n",
    "\n",
    "# Plotting constants\n",
    "N_COMPONENTS_2D = 2\n",
    "N_COMPONENTS_3D = 3\n",
    "# Define colors for each category (add more if needed)\n",
    "CATEGORY_COLORS = {'A': '#e41a1c', 'N': '#377eb8', 'G': '#4daf4a', 'C': '#984ea3', 'unknown': '#cccccc'} # Example colorblind-friendly palette\n",
    "FIG_SIZE_2D = (12, 10)\n"
   ]
  },
  {
   "cell_type": "markdown",
   "id": "9cc61a7a",
   "metadata": {},
   "source": [
    "### 3. Load Data"
   ]
  },
  {
   "cell_type": "code",
   "execution_count": 13,
   "id": "490450ce",
   "metadata": {},
   "outputs": [
    {
     "name": "stdout",
     "output_type": "stream",
     "text": [
      "--- Loading Data ---\n",
      "Loaded embeddings from: ../data/imo_2023_embeddings.npy\n",
      "Embeddings shape: (30, 3072)\n",
      "Loaded metadata from: ../data/imo_2023_metadata.json\n",
      "Number of metadata entries: 30\n",
      "Verified consistent embedding dimension: 3072\n"
     ]
    }
   ],
   "source": [
    "print(\"--- Loading Data ---\")\n",
    "try:\n",
    "    embeddings = np.load(EMBEDDINGS_FILE, allow_pickle=True)\n",
    "    print(f\"Loaded embeddings from: {EMBEDDINGS_FILE}\")\n",
    "    print(f\"Embeddings shape: {embeddings.shape}\")\n",
    "\n",
    "    with open(METADATA_FILE, 'r', encoding='utf-8') as f:\n",
    "        metadata = json.load(f)\n",
    "    print(f\"Loaded metadata from: {METADATA_FILE}\")\n",
    "    print(f\"Number of metadata entries: {len(metadata)}\")\n",
    "\n",
    "    if len(embeddings) != len(metadata):\n",
    "        raise ValueError(\"Mismatch between number of embeddings and metadata entries!\")\n",
    "\n",
    "    # Verify embedding dimension consistency (optional, but good check)\n",
    "    if len(embeddings) > 0:\n",
    "        first_embedding_len = len(embeddings[0])\n",
    "        if not all(len(emb) == first_embedding_len for emb in embeddings):\n",
    "            print(\"WARNING: Embeddings have inconsistent lengths. This might affect PCA.\")\n",
    "        else:\n",
    "            print(f\"Verified consistent embedding dimension: {first_embedding_len}\")\n",
    "            # Ensure embeddings is a 2D numpy array if not already\n",
    "            if embeddings.ndim == 1: # Might happen if loaded with object dtype\n",
    "                embeddings = np.stack(embeddings)\n",
    "                print(f\"Converted embeddings to 2D array. New shape: {embeddings.shape}\")\n",
    "\n",
    "\n",
    "except FileNotFoundError as e:\n",
    "    print(f\"ERROR: Required data file not found: {e}. Please run the embedding generation script first.\")\n",
    "    # Halt execution in a real notebook environment if files are missing\n",
    "    embeddings = None\n",
    "    metadata = None\n",
    "except ValueError as e:\n",
    "    print(f\"ERROR: Data loading validation failed: {e}\")\n",
    "    embeddings = None\n",
    "    metadata = None\n",
    "except Exception as e:\n",
    "    print(f\"ERROR: An unexpected error occurred during data loading: {e}\")\n",
    "    embeddings = None\n",
    "    metadata = None"
   ]
  },
  {
   "cell_type": "markdown",
   "id": "c0223efa",
   "metadata": {},
   "source": [
    "### 4. Data Preparation (Combine into DataFrame)"
   ]
  },
  {
   "cell_type": "code",
   "execution_count": 14,
   "id": "2ec557c9",
   "metadata": {},
   "outputs": [
    {
     "name": "stdout",
     "output_type": "stream",
     "text": [
      "\n",
      "--- Preparing Data ---\n",
      "Metadata DataFrame head:\n",
      "  problem_id category\n",
      "0         A1        A\n",
      "1         A2        A\n",
      "2         A3        A\n",
      "3         A4        A\n",
      "4         A5        A\n",
      "\n",
      "Categories found: ['A' 'C' 'G' 'N']\n"
     ]
    }
   ],
   "source": [
    "if embeddings is not None and metadata is not None:\n",
    "    print(\"\\n--- Preparing Data ---\")\n",
    "    df = pd.DataFrame(metadata)\n",
    "    # Ensure embeddings are correctly associated if order is guaranteed\n",
    "    # (It should be if generated sequentially)\n",
    "    # Note: Storing large embeddings directly in DataFrame can be memory intensive\n",
    "    # We'll add PCA components later.\n",
    "    print(\"Metadata DataFrame head:\")\n",
    "    print(df.head())\n",
    "    print(f\"\\nCategories found: {df['category'].unique()}\")\n",
    "else:\n",
    "    print(\"Skipping further steps due to data loading errors.\")"
   ]
  },
  {
   "cell_type": "markdown",
   "id": "a6114042",
   "metadata": {},
   "source": [
    "### 5. Feature Scaling (Optional but Recommended for PCA)"
   ]
  },
  {
   "cell_type": "code",
   "execution_count": 15,
   "id": "853a7c97",
   "metadata": {},
   "outputs": [
    {
     "name": "stdout",
     "output_type": "stream",
     "text": [
      "\n",
      "--- Scaling Embeddings ---\n",
      "Embeddings scaled. Shape: (30, 3072)\n"
     ]
    }
   ],
   "source": [
    "if embeddings is not None:\n",
    "    print(\"\\n--- Scaling Embeddings ---\")\n",
    "    scaler = StandardScaler()\n",
    "    # Fit and transform the embeddings\n",
    "    scaled_embeddings = scaler.fit_transform(embeddings)\n",
    "    print(f\"Embeddings scaled. Shape: {scaled_embeddings.shape}\")"
   ]
  },
  {
   "cell_type": "markdown",
   "id": "934dec3b",
   "metadata": {},
   "source": [
    "### 6. PCA Dimensionality Reduction"
   ]
  },
  {
   "cell_type": "code",
   "execution_count": 16,
   "id": "aca07e0c",
   "metadata": {},
   "outputs": [
    {
     "name": "stdout",
     "output_type": "stream",
     "text": [
      "\n",
      "--- Performing PCA (2D) ---\n",
      "PCA (2D) applied. Reduced shape: (30, 2)\n",
      "Explained Variance Ratio (2D): [0.14938475 0.09116394]\n",
      "Total Explained Variance (2D): 0.2405\n"
     ]
    }
   ],
   "source": [
    "if embeddings is not None:\n",
    "    print(\"\\n--- Performing PCA (2D) ---\")\n",
    "    pca_2d = PCA(n_components=N_COMPONENTS_2D)\n",
    "    embeddings_2d = pca_2d.fit_transform(scaled_embeddings) # Use scaled embeddings\n",
    "\n",
    "    print(f\"PCA (2D) applied. Reduced shape: {embeddings_2d.shape}\")\n",
    "    print(f\"Explained Variance Ratio (2D): {pca_2d.explained_variance_ratio_}\")\n",
    "    total_variance_2d = np.sum(pca_2d.explained_variance_ratio_)\n",
    "    print(f\"Total Explained Variance (2D): {total_variance_2d:.4f}\")\n",
    "\n",
    "    # Add 2D PCA components to DataFrame for plotting\n",
    "    df['pca1'] = embeddings_2d[:, 0]\n",
    "    df['pca2'] = embeddings_2d[:, 1]"
   ]
  },
  {
   "cell_type": "markdown",
   "id": "b57cb738",
   "metadata": {},
   "source": [
    "#### 6.2 PCA to 3 Dimensions"
   ]
  },
  {
   "cell_type": "code",
   "execution_count": 17,
   "id": "0e256b20",
   "metadata": {},
   "outputs": [
    {
     "name": "stdout",
     "output_type": "stream",
     "text": [
      "\n",
      "--- Performing PCA (3D) ---\n",
      "PCA (3D) applied. Reduced shape: (30, 3)\n",
      "Explained Variance Ratio (3D): [0.14938474 0.09116158 0.06538674]\n",
      "Total Explained Variance (3D): 0.3059\n",
      "\n",
      "DataFrame head with PCA components:\n",
      "  problem_id category       pca1       pca2       pca3\n",
      "0         A1        A  -9.318116 -20.924941  10.526694\n",
      "1         A2        A  -7.049145  18.403018  34.316304\n",
      "2         A3        A -15.155290 -11.767110  13.282366\n",
      "3         A4        A -10.920645  27.052267  36.549684\n",
      "4         A5        A -14.393222 -20.095913  14.731338\n"
     ]
    }
   ],
   "source": [
    "if embeddings is not None:\n",
    "    print(\"\\n--- Performing PCA (3D) ---\")\n",
    "    pca_3d = PCA(n_components=N_COMPONENTS_3D)\n",
    "    embeddings_3d = pca_3d.fit_transform(scaled_embeddings) # Use scaled embeddings\n",
    "\n",
    "    print(f\"PCA (3D) applied. Reduced shape: {embeddings_3d.shape}\")\n",
    "    print(f\"Explained Variance Ratio (3D): {pca_3d.explained_variance_ratio_}\")\n",
    "    total_variance_3d = np.sum(pca_3d.explained_variance_ratio_)\n",
    "    print(f\"Total Explained Variance (3D): {total_variance_3d:.4f}\")\n",
    "\n",
    "    # Add 3D PCA component to DataFrame for plotting\n",
    "    df['pca3'] = embeddings_3d[:, 2]\n",
    "    print(\"\\nDataFrame head with PCA components:\")\n",
    "    print(df.head())"
   ]
  },
  {
   "cell_type": "markdown",
   "id": "501ecd43",
   "metadata": {},
   "source": [
    "### 7. Visualization"
   ]
  },
  {
   "cell_type": "markdown",
   "id": "87fc30d5",
   "metadata": {},
   "source": [
    "#### 7.1 2D Scatter Plot (Matplotlib/Seaborn)"
   ]
  },
  {
   "cell_type": "code",
   "execution_count": 18,
   "id": "b82d04ac",
   "metadata": {},
   "outputs": [
    {
     "name": "stdout",
     "output_type": "stream",
     "text": [
      "\n",
      "--- Generating 2D Plot ---\n",
      "Saved 2D plot to: outputs/pca_2d_plot.png\n"
     ]
    },
    {
     "data": {
      "image/png": "[encoded data removed]",
      "text/plain": [
       "<Figure size 1200x1000 with 1 Axes>"
      ]
     },
     "metadata": {},
     "output_type": "display_data"
    }
   ],
   "source": [
    "if embeddings is not None:\n",
    "    print(\"\\n--- Generating 2D Plot ---\")\n",
    "    plt.figure(figsize=FIG_SIZE_2D)\n",
    "    scatter_2d = sns.scatterplot(\n",
    "        data=df,\n",
    "        x='pca1',\n",
    "        y='pca2',\n",
    "        hue='category', # Color points by category\n",
    "        palette=CATEGORY_COLORS, # Use the defined color palette\n",
    "        s=100, # Adjust marker size\n",
    "        alpha=0.8 # Adjust marker transparency\n",
    "    )\n",
    "    plt.title(f'2D PCA of IMO 2023 Problem Embeddings ({total_variance_2d:.2%} Variance Explained)')\n",
    "    plt.xlabel(f'Principal Component 1 ({pca_2d.explained_variance_ratio_[0]:.2%} variance)')\n",
    "    plt.ylabel(f'Principal Component 2 ({pca_2d.explained_variance_ratio_[1]:.2%} variance)')\n",
    "    plt.legend(title='Category', bbox_to_anchor=(1.05, 1), loc='upper left') # Place legend outside plot\n",
    "    plt.grid(True, linestyle='--', alpha=0.6)\n",
    "    plt.tight_layout(rect=[0, 0, 0.85, 1]) # Adjust layout to make space for legend\n",
    "    # Save the plot\n",
    "    plot_path_2d = os.path.join(OUTPUT_DIR, 'pca_2d_plot.png')\n",
    "    plt.savefig(plot_path_2d)\n",
    "    print(f\"Saved 2D plot to: {plot_path_2d}\")\n",
    "    plt.show()"
   ]
  },
  {
   "cell_type": "markdown",
   "id": "d19ee688",
   "metadata": {},
   "source": [
    "#### 7.2 3D Scatter Plot (Plotly)"
   ]
  },
  {
   "cell_type": "code",
   "execution_count": null,
   "id": "692c079b",
   "metadata": {},
   "outputs": [],
   "source": [
    "if embeddings is not None:\n",
    "    print(\"\\n--- Generating 3D Plot ---\")\n",
    "    fig_3d = go.Figure()\n",
    "\n",
    "    # Add a trace for each category\n",
    "    for category_name, color in CATEGORY_COLORS.items():\n",
    "        category_df = df[df['category'] == category_name]\n",
    "        if not category_df.empty:\n",
    "            fig_3d.add_trace(go.Scatter3d(\n",
    "                x=category_df['pca1'],\n",
    "                y=category_df['pca2'],\n",
    "                z=category_df['pca3'],\n",
    "                mode='markers',\n",
    "                marker=dict(\n",
    "                    size=6, # Adjust marker size\n",
    "                    color=color,                # Use the color defined for the category\n",
    "                    opacity=0.8\n",
    "                ),\n",
    "                text=category_df['problem_id'], # Text displayed on hover\n",
    "                # Custom hover text formatting\n",
    "                hovertemplate=(\n",
    "                    f'<b>ID:</b> %{{text}}<br>'\n",
    "                    f'<b>Category:</b> {category_name}<br>'\n",
    "                    f'PC1: %{{x:.2f}}<br>'\n",
    "                    f'PC2: %{{y:.2f}}<br>'\n",
    "                    f'PC3: %{{z:.2f}}'\n",
    "                    f'<extra></extra>' # Hide extra hover info\n",
    "                ),\n",
    "                name=category_name # Name appearing in the legend\n",
    "            ))\n",
    "\n",
    "    # Update layout for titles and axis labels\n",
    "    fig_3d.update_layout(\n",
    "        title=f'3D PCA of IMO 2023 Problem Embeddings ({total_variance_3d:.2%} Variance Explained)',\n",
    "        scene=dict(\n",
    "            xaxis_title=f'PC 1 ({pca_3d.explained_variance_ratio_[0]:.2f} var)',\n",
    "            yaxis_title=f'PC 2 ({pca_3d.explained_variance_ratio_[1]:.2f} var)',\n",
    "            zaxis_title=f'PC 3 ({pca_3d.explained_variance_ratio_[2]:.2f} var)'\n",
    "        ),\n",
    "        margin=dict(l=0, r=0, b=0, t=40), # Adjust margins\n",
    "        legend_title_text='Category',\n",
    "        # scene_camera = dict( # Optional: set initial camera angle\n",
    "        #    eye=dict(x=1.8, y=1.8, z=0.6)\n",
    "        # )\n",
    "    )\n",
    "\n",
    "    # Save as interactive HTML (optional)\n",
    "    plot_path_3d_html = os.path.join(OUTPUT_DIR, 'pca_3d_plot.html')\n",
    "    fig_3d.write_html(plot_path_3d_html)\n",
    "    print(f\"Saved interactive 3D plot to: {plot_path_3d_html}\")\n",
    "\n",
    "    # Show the plot in the notebook\n",
    "    fig_3d.show()"
   ]
  },
  {
   "cell_type": "markdown",
   "id": "f45f594e",
   "metadata": {},
   "source": [
    "### 8. Analysis / Conclusion\n",
    "Add Markdown cells here to discuss:\n",
    "- The total variance explained by 2D and 3D PCA. Is it high enough to be representative?\n",
    "- Observations from the plots: Are the categories visually separated? Is there overlap?\n",
    "- Any outliers? Any sub-clusters within categories?\n",
    "- How well do the results support the hypothesis that embeddings capture category-specific semantics?"
   ]
  }
 ],
 "metadata": {
  "language_info": {
   "name": "python"
  }
 },
 "nbformat": 4,
 "nbformat_minor": 5
}
